{
 "cells": [
  {
   "cell_type": "code",
   "execution_count": 43,
   "source": [
    "import pandas as pd\n",
    "import os\n",
    "import numpy as np"
   ],
   "outputs": [],
   "metadata": {}
  },
  {
   "cell_type": "markdown",
   "source": [
    "# Read the CSV and Perform Basic Data Cleaning"
   ],
   "metadata": {}
  },
  {
   "cell_type": "code",
   "execution_count": 44,
   "source": [
    "df = pd.read_csv(os.path.join(\"..\",\"Resources\",\"exoplanet_data.csv\"))\n",
    "# Drop the null columns where all values are null\n",
    "df = df.dropna(axis='columns', how='all')\n",
    "# Drop the null rows\n",
    "koi = df.dropna()\n",
    "print(f\"Number rows: {len(df)}\")\n",
    "koi.head()"
   ],
   "outputs": [
    {
     "output_type": "stream",
     "name": "stdout",
     "text": [
      "Number rows: 6991\n"
     ]
    },
    {
     "output_type": "execute_result",
     "data": {
      "text/plain": [
       "  koi_disposition  koi_fpflag_nt  koi_fpflag_ss  koi_fpflag_co  koi_fpflag_ec  \\\n",
       "0       CONFIRMED              0              0              0              0   \n",
       "1  FALSE POSITIVE              0              1              0              0   \n",
       "2  FALSE POSITIVE              0              1              0              0   \n",
       "3       CONFIRMED              0              0              0              0   \n",
       "4       CONFIRMED              0              0              0              0   \n",
       "\n",
       "   koi_period  koi_period_err1  koi_period_err2  koi_time0bk  \\\n",
       "0   54.418383     2.479000e-04    -2.479000e-04   162.513840   \n",
       "1   19.899140     1.490000e-05    -1.490000e-05   175.850252   \n",
       "2    1.736952     2.630000e-07    -2.630000e-07   170.307565   \n",
       "3    2.525592     3.760000e-06    -3.760000e-06   171.595550   \n",
       "4    4.134435     1.050000e-05    -1.050000e-05   172.979370   \n",
       "\n",
       "   koi_time0bk_err1  ...  koi_steff_err2  koi_slogg  koi_slogg_err1  \\\n",
       "0          0.003520  ...             -81      4.467           0.064   \n",
       "1          0.000581  ...            -176      4.544           0.044   \n",
       "2          0.000115  ...            -174      4.564           0.053   \n",
       "3          0.001130  ...            -211      4.438           0.070   \n",
       "4          0.001900  ...            -232      4.486           0.054   \n",
       "\n",
       "   koi_slogg_err2  koi_srad  koi_srad_err1  koi_srad_err2         ra  \\\n",
       "0          -0.096     0.927          0.105         -0.061  291.93423   \n",
       "1          -0.176     0.868          0.233         -0.078  297.00482   \n",
       "2          -0.168     0.791          0.201         -0.067  285.53461   \n",
       "3          -0.210     1.046          0.334         -0.133  288.75488   \n",
       "4          -0.229     0.972          0.315         -0.105  296.28613   \n",
       "\n",
       "         dec  koi_kepmag  \n",
       "0  48.141651      15.347  \n",
       "1  48.134129      15.436  \n",
       "2  48.285210      15.597  \n",
       "3  48.226200      15.509  \n",
       "4  48.224670      15.714  \n",
       "\n",
       "[5 rows x 41 columns]"
      ],
      "text/html": [
       "<div>\n",
       "<style scoped>\n",
       "    .dataframe tbody tr th:only-of-type {\n",
       "        vertical-align: middle;\n",
       "    }\n",
       "\n",
       "    .dataframe tbody tr th {\n",
       "        vertical-align: top;\n",
       "    }\n",
       "\n",
       "    .dataframe thead th {\n",
       "        text-align: right;\n",
       "    }\n",
       "</style>\n",
       "<table border=\"1\" class=\"dataframe\">\n",
       "  <thead>\n",
       "    <tr style=\"text-align: right;\">\n",
       "      <th></th>\n",
       "      <th>koi_disposition</th>\n",
       "      <th>koi_fpflag_nt</th>\n",
       "      <th>koi_fpflag_ss</th>\n",
       "      <th>koi_fpflag_co</th>\n",
       "      <th>koi_fpflag_ec</th>\n",
       "      <th>koi_period</th>\n",
       "      <th>koi_period_err1</th>\n",
       "      <th>koi_period_err2</th>\n",
       "      <th>koi_time0bk</th>\n",
       "      <th>koi_time0bk_err1</th>\n",
       "      <th>...</th>\n",
       "      <th>koi_steff_err2</th>\n",
       "      <th>koi_slogg</th>\n",
       "      <th>koi_slogg_err1</th>\n",
       "      <th>koi_slogg_err2</th>\n",
       "      <th>koi_srad</th>\n",
       "      <th>koi_srad_err1</th>\n",
       "      <th>koi_srad_err2</th>\n",
       "      <th>ra</th>\n",
       "      <th>dec</th>\n",
       "      <th>koi_kepmag</th>\n",
       "    </tr>\n",
       "  </thead>\n",
       "  <tbody>\n",
       "    <tr>\n",
       "      <th>0</th>\n",
       "      <td>CONFIRMED</td>\n",
       "      <td>0</td>\n",
       "      <td>0</td>\n",
       "      <td>0</td>\n",
       "      <td>0</td>\n",
       "      <td>54.418383</td>\n",
       "      <td>2.479000e-04</td>\n",
       "      <td>-2.479000e-04</td>\n",
       "      <td>162.513840</td>\n",
       "      <td>0.003520</td>\n",
       "      <td>...</td>\n",
       "      <td>-81</td>\n",
       "      <td>4.467</td>\n",
       "      <td>0.064</td>\n",
       "      <td>-0.096</td>\n",
       "      <td>0.927</td>\n",
       "      <td>0.105</td>\n",
       "      <td>-0.061</td>\n",
       "      <td>291.93423</td>\n",
       "      <td>48.141651</td>\n",
       "      <td>15.347</td>\n",
       "    </tr>\n",
       "    <tr>\n",
       "      <th>1</th>\n",
       "      <td>FALSE POSITIVE</td>\n",
       "      <td>0</td>\n",
       "      <td>1</td>\n",
       "      <td>0</td>\n",
       "      <td>0</td>\n",
       "      <td>19.899140</td>\n",
       "      <td>1.490000e-05</td>\n",
       "      <td>-1.490000e-05</td>\n",
       "      <td>175.850252</td>\n",
       "      <td>0.000581</td>\n",
       "      <td>...</td>\n",
       "      <td>-176</td>\n",
       "      <td>4.544</td>\n",
       "      <td>0.044</td>\n",
       "      <td>-0.176</td>\n",
       "      <td>0.868</td>\n",
       "      <td>0.233</td>\n",
       "      <td>-0.078</td>\n",
       "      <td>297.00482</td>\n",
       "      <td>48.134129</td>\n",
       "      <td>15.436</td>\n",
       "    </tr>\n",
       "    <tr>\n",
       "      <th>2</th>\n",
       "      <td>FALSE POSITIVE</td>\n",
       "      <td>0</td>\n",
       "      <td>1</td>\n",
       "      <td>0</td>\n",
       "      <td>0</td>\n",
       "      <td>1.736952</td>\n",
       "      <td>2.630000e-07</td>\n",
       "      <td>-2.630000e-07</td>\n",
       "      <td>170.307565</td>\n",
       "      <td>0.000115</td>\n",
       "      <td>...</td>\n",
       "      <td>-174</td>\n",
       "      <td>4.564</td>\n",
       "      <td>0.053</td>\n",
       "      <td>-0.168</td>\n",
       "      <td>0.791</td>\n",
       "      <td>0.201</td>\n",
       "      <td>-0.067</td>\n",
       "      <td>285.53461</td>\n",
       "      <td>48.285210</td>\n",
       "      <td>15.597</td>\n",
       "    </tr>\n",
       "    <tr>\n",
       "      <th>3</th>\n",
       "      <td>CONFIRMED</td>\n",
       "      <td>0</td>\n",
       "      <td>0</td>\n",
       "      <td>0</td>\n",
       "      <td>0</td>\n",
       "      <td>2.525592</td>\n",
       "      <td>3.760000e-06</td>\n",
       "      <td>-3.760000e-06</td>\n",
       "      <td>171.595550</td>\n",
       "      <td>0.001130</td>\n",
       "      <td>...</td>\n",
       "      <td>-211</td>\n",
       "      <td>4.438</td>\n",
       "      <td>0.070</td>\n",
       "      <td>-0.210</td>\n",
       "      <td>1.046</td>\n",
       "      <td>0.334</td>\n",
       "      <td>-0.133</td>\n",
       "      <td>288.75488</td>\n",
       "      <td>48.226200</td>\n",
       "      <td>15.509</td>\n",
       "    </tr>\n",
       "    <tr>\n",
       "      <th>4</th>\n",
       "      <td>CONFIRMED</td>\n",
       "      <td>0</td>\n",
       "      <td>0</td>\n",
       "      <td>0</td>\n",
       "      <td>0</td>\n",
       "      <td>4.134435</td>\n",
       "      <td>1.050000e-05</td>\n",
       "      <td>-1.050000e-05</td>\n",
       "      <td>172.979370</td>\n",
       "      <td>0.001900</td>\n",
       "      <td>...</td>\n",
       "      <td>-232</td>\n",
       "      <td>4.486</td>\n",
       "      <td>0.054</td>\n",
       "      <td>-0.229</td>\n",
       "      <td>0.972</td>\n",
       "      <td>0.315</td>\n",
       "      <td>-0.105</td>\n",
       "      <td>296.28613</td>\n",
       "      <td>48.224670</td>\n",
       "      <td>15.714</td>\n",
       "    </tr>\n",
       "  </tbody>\n",
       "</table>\n",
       "<p>5 rows × 41 columns</p>\n",
       "</div>"
      ]
     },
     "metadata": {},
     "execution_count": 44
    }
   ],
   "metadata": {}
  },
  {
   "cell_type": "markdown",
   "source": [
    "# Select your features (columns)"
   ],
   "metadata": {}
  },
  {
   "cell_type": "code",
   "execution_count": 45,
   "source": [
    "# koi = pd.get_dummies(df,drop_first=True)\n",
    "# koi.head()"
   ],
   "outputs": [],
   "metadata": {}
  },
  {
   "cell_type": "code",
   "execution_count": 46,
   "source": [
    "# Set features. This will also be used as your x values.\n",
    "selected_features = ['koi_impact', 'koi_depth', 'koi_prad', 'koi_teq',\\\n",
    "    'koi_steff','koi_slogg','koi_srad']\n",
    "\n",
    "#data = df[selected_features]\n",
    "data = df.drop(columns=['koi_disposition'])\n",
    "\n",
    "feature_names = data.columns\n",
    "data.head()"
   ],
   "outputs": [
    {
     "output_type": "execute_result",
     "data": {
      "text/plain": [
       "   koi_fpflag_nt  koi_fpflag_ss  koi_fpflag_co  koi_fpflag_ec  koi_period  \\\n",
       "0              0              0              0              0   54.418383   \n",
       "1              0              1              0              0   19.899140   \n",
       "2              0              1              0              0    1.736952   \n",
       "3              0              0              0              0    2.525592   \n",
       "4              0              0              0              0    4.134435   \n",
       "\n",
       "   koi_period_err1  koi_period_err2  koi_time0bk  koi_time0bk_err1  \\\n",
       "0     2.479000e-04    -2.479000e-04   162.513840          0.003520   \n",
       "1     1.490000e-05    -1.490000e-05   175.850252          0.000581   \n",
       "2     2.630000e-07    -2.630000e-07   170.307565          0.000115   \n",
       "3     3.760000e-06    -3.760000e-06   171.595550          0.001130   \n",
       "4     1.050000e-05    -1.050000e-05   172.979370          0.001900   \n",
       "\n",
       "   koi_time0bk_err2  ...  koi_steff_err2  koi_slogg  koi_slogg_err1  \\\n",
       "0         -0.003520  ...             -81      4.467           0.064   \n",
       "1         -0.000581  ...            -176      4.544           0.044   \n",
       "2         -0.000115  ...            -174      4.564           0.053   \n",
       "3         -0.001130  ...            -211      4.438           0.070   \n",
       "4         -0.001900  ...            -232      4.486           0.054   \n",
       "\n",
       "   koi_slogg_err2  koi_srad  koi_srad_err1  koi_srad_err2         ra  \\\n",
       "0          -0.096     0.927          0.105         -0.061  291.93423   \n",
       "1          -0.176     0.868          0.233         -0.078  297.00482   \n",
       "2          -0.168     0.791          0.201         -0.067  285.53461   \n",
       "3          -0.210     1.046          0.334         -0.133  288.75488   \n",
       "4          -0.229     0.972          0.315         -0.105  296.28613   \n",
       "\n",
       "         dec  koi_kepmag  \n",
       "0  48.141651      15.347  \n",
       "1  48.134129      15.436  \n",
       "2  48.285210      15.597  \n",
       "3  48.226200      15.509  \n",
       "4  48.224670      15.714  \n",
       "\n",
       "[5 rows x 40 columns]"
      ],
      "text/html": [
       "<div>\n",
       "<style scoped>\n",
       "    .dataframe tbody tr th:only-of-type {\n",
       "        vertical-align: middle;\n",
       "    }\n",
       "\n",
       "    .dataframe tbody tr th {\n",
       "        vertical-align: top;\n",
       "    }\n",
       "\n",
       "    .dataframe thead th {\n",
       "        text-align: right;\n",
       "    }\n",
       "</style>\n",
       "<table border=\"1\" class=\"dataframe\">\n",
       "  <thead>\n",
       "    <tr style=\"text-align: right;\">\n",
       "      <th></th>\n",
       "      <th>koi_fpflag_nt</th>\n",
       "      <th>koi_fpflag_ss</th>\n",
       "      <th>koi_fpflag_co</th>\n",
       "      <th>koi_fpflag_ec</th>\n",
       "      <th>koi_period</th>\n",
       "      <th>koi_period_err1</th>\n",
       "      <th>koi_period_err2</th>\n",
       "      <th>koi_time0bk</th>\n",
       "      <th>koi_time0bk_err1</th>\n",
       "      <th>koi_time0bk_err2</th>\n",
       "      <th>...</th>\n",
       "      <th>koi_steff_err2</th>\n",
       "      <th>koi_slogg</th>\n",
       "      <th>koi_slogg_err1</th>\n",
       "      <th>koi_slogg_err2</th>\n",
       "      <th>koi_srad</th>\n",
       "      <th>koi_srad_err1</th>\n",
       "      <th>koi_srad_err2</th>\n",
       "      <th>ra</th>\n",
       "      <th>dec</th>\n",
       "      <th>koi_kepmag</th>\n",
       "    </tr>\n",
       "  </thead>\n",
       "  <tbody>\n",
       "    <tr>\n",
       "      <th>0</th>\n",
       "      <td>0</td>\n",
       "      <td>0</td>\n",
       "      <td>0</td>\n",
       "      <td>0</td>\n",
       "      <td>54.418383</td>\n",
       "      <td>2.479000e-04</td>\n",
       "      <td>-2.479000e-04</td>\n",
       "      <td>162.513840</td>\n",
       "      <td>0.003520</td>\n",
       "      <td>-0.003520</td>\n",
       "      <td>...</td>\n",
       "      <td>-81</td>\n",
       "      <td>4.467</td>\n",
       "      <td>0.064</td>\n",
       "      <td>-0.096</td>\n",
       "      <td>0.927</td>\n",
       "      <td>0.105</td>\n",
       "      <td>-0.061</td>\n",
       "      <td>291.93423</td>\n",
       "      <td>48.141651</td>\n",
       "      <td>15.347</td>\n",
       "    </tr>\n",
       "    <tr>\n",
       "      <th>1</th>\n",
       "      <td>0</td>\n",
       "      <td>1</td>\n",
       "      <td>0</td>\n",
       "      <td>0</td>\n",
       "      <td>19.899140</td>\n",
       "      <td>1.490000e-05</td>\n",
       "      <td>-1.490000e-05</td>\n",
       "      <td>175.850252</td>\n",
       "      <td>0.000581</td>\n",
       "      <td>-0.000581</td>\n",
       "      <td>...</td>\n",
       "      <td>-176</td>\n",
       "      <td>4.544</td>\n",
       "      <td>0.044</td>\n",
       "      <td>-0.176</td>\n",
       "      <td>0.868</td>\n",
       "      <td>0.233</td>\n",
       "      <td>-0.078</td>\n",
       "      <td>297.00482</td>\n",
       "      <td>48.134129</td>\n",
       "      <td>15.436</td>\n",
       "    </tr>\n",
       "    <tr>\n",
       "      <th>2</th>\n",
       "      <td>0</td>\n",
       "      <td>1</td>\n",
       "      <td>0</td>\n",
       "      <td>0</td>\n",
       "      <td>1.736952</td>\n",
       "      <td>2.630000e-07</td>\n",
       "      <td>-2.630000e-07</td>\n",
       "      <td>170.307565</td>\n",
       "      <td>0.000115</td>\n",
       "      <td>-0.000115</td>\n",
       "      <td>...</td>\n",
       "      <td>-174</td>\n",
       "      <td>4.564</td>\n",
       "      <td>0.053</td>\n",
       "      <td>-0.168</td>\n",
       "      <td>0.791</td>\n",
       "      <td>0.201</td>\n",
       "      <td>-0.067</td>\n",
       "      <td>285.53461</td>\n",
       "      <td>48.285210</td>\n",
       "      <td>15.597</td>\n",
       "    </tr>\n",
       "    <tr>\n",
       "      <th>3</th>\n",
       "      <td>0</td>\n",
       "      <td>0</td>\n",
       "      <td>0</td>\n",
       "      <td>0</td>\n",
       "      <td>2.525592</td>\n",
       "      <td>3.760000e-06</td>\n",
       "      <td>-3.760000e-06</td>\n",
       "      <td>171.595550</td>\n",
       "      <td>0.001130</td>\n",
       "      <td>-0.001130</td>\n",
       "      <td>...</td>\n",
       "      <td>-211</td>\n",
       "      <td>4.438</td>\n",
       "      <td>0.070</td>\n",
       "      <td>-0.210</td>\n",
       "      <td>1.046</td>\n",
       "      <td>0.334</td>\n",
       "      <td>-0.133</td>\n",
       "      <td>288.75488</td>\n",
       "      <td>48.226200</td>\n",
       "      <td>15.509</td>\n",
       "    </tr>\n",
       "    <tr>\n",
       "      <th>4</th>\n",
       "      <td>0</td>\n",
       "      <td>0</td>\n",
       "      <td>0</td>\n",
       "      <td>0</td>\n",
       "      <td>4.134435</td>\n",
       "      <td>1.050000e-05</td>\n",
       "      <td>-1.050000e-05</td>\n",
       "      <td>172.979370</td>\n",
       "      <td>0.001900</td>\n",
       "      <td>-0.001900</td>\n",
       "      <td>...</td>\n",
       "      <td>-232</td>\n",
       "      <td>4.486</td>\n",
       "      <td>0.054</td>\n",
       "      <td>-0.229</td>\n",
       "      <td>0.972</td>\n",
       "      <td>0.315</td>\n",
       "      <td>-0.105</td>\n",
       "      <td>296.28613</td>\n",
       "      <td>48.224670</td>\n",
       "      <td>15.714</td>\n",
       "    </tr>\n",
       "  </tbody>\n",
       "</table>\n",
       "<p>5 rows × 40 columns</p>\n",
       "</div>"
      ]
     },
     "metadata": {},
     "execution_count": 46
    }
   ],
   "metadata": {}
  },
  {
   "cell_type": "code",
   "execution_count": 47,
   "source": [
    "target_names = ['CANDIDATE', 'FALSE POSITIVE']\n",
    "target = koi.koi_disposition#_CONFIRMED.values.reshape(-1, 1)\n",
    "target"
   ],
   "outputs": [
    {
     "output_type": "execute_result",
     "data": {
      "text/plain": [
       "0            CONFIRMED\n",
       "1       FALSE POSITIVE\n",
       "2       FALSE POSITIVE\n",
       "3            CONFIRMED\n",
       "4            CONFIRMED\n",
       "             ...      \n",
       "6986    FALSE POSITIVE\n",
       "6987    FALSE POSITIVE\n",
       "6988         CANDIDATE\n",
       "6989    FALSE POSITIVE\n",
       "6990    FALSE POSITIVE\n",
       "Name: koi_disposition, Length: 6991, dtype: object"
      ]
     },
     "metadata": {},
     "execution_count": 47
    }
   ],
   "metadata": {}
  },
  {
   "cell_type": "markdown",
   "source": [
    "# Create a Train Test Split\n",
    "\n",
    "Use `koi_disposition` for the y values"
   ],
   "metadata": {}
  },
  {
   "cell_type": "code",
   "execution_count": 48,
   "source": [
    "from sklearn.model_selection import train_test_split\n",
    "X_train, X_test, y_train, y_test = train_test_split(data, target, random_state=7)"
   ],
   "outputs": [],
   "metadata": {}
  },
  {
   "cell_type": "code",
   "execution_count": 49,
   "source": [
    "from sklearn.preprocessing import LabelEncoder\n",
    "\n",
    "label_encoder = LabelEncoder()\n",
    "label_encoder.fit(target)\n",
    "y_train_encoded = label_encoder.transform(y_train)\n",
    "y_test_encoded = label_encoder.transform(y_test)"
   ],
   "outputs": [],
   "metadata": {}
  },
  {
   "cell_type": "markdown",
   "source": [
    "# Pre-processing\n",
    "\n",
    "Scale the data using the MinMaxScaler and perform some feature selection"
   ],
   "metadata": {}
  },
  {
   "cell_type": "code",
   "execution_count": 50,
   "source": [
    "# Scale your data\n",
    "from sklearn.preprocessing import StandardScaler,MinMaxScaler\n",
    "\n",
    "# Create a StandardScater model and fit it to the training data\n",
    "X_scaler = MinMaxScaler().fit(X_train)\n",
    "\n",
    "# Transform the training and testing data using the X_scaler and y_scaler models\n",
    "X_train_scaled = X_scaler.transform(X_train)\n",
    "X_test_scaled = X_scaler.transform(X_test)"
   ],
   "outputs": [],
   "metadata": {}
  },
  {
   "cell_type": "markdown",
   "source": [
    "# Train the Model\n",
    "\n"
   ],
   "metadata": {}
  },
  {
   "cell_type": "code",
   "execution_count": 51,
   "source": [
    "from sklearn.linear_model import LogisticRegression\n",
    "model = LogisticRegression(max_iter=500)\n",
    "model.fit(X_train_scaled, y_train)"
   ],
   "outputs": [
    {
     "output_type": "execute_result",
     "data": {
      "text/plain": [
       "LogisticRegression(max_iter=500)"
      ]
     },
     "metadata": {},
     "execution_count": 51
    }
   ],
   "metadata": {}
  },
  {
   "cell_type": "code",
   "execution_count": 52,
   "source": [
    "print(f\"Training Data Score: {model.score(X_train_scaled, y_train)}\")\n",
    "print(f\"Testing Data Score: {model.score(X_test_scaled, y_test)}\")"
   ],
   "outputs": [
    {
     "output_type": "stream",
     "name": "stdout",
     "text": [
      "Training Data Score: 0.8514209422086592\n",
      "Testing Data Score: 0.8335240274599542\n"
     ]
    }
   ],
   "metadata": {}
  },
  {
   "cell_type": "markdown",
   "source": [
    "Feature Selection"
   ],
   "metadata": {}
  },
  {
   "cell_type": "code",
   "execution_count": 53,
   "source": [
    "## Recursive Feature Elimination\n",
    "from sklearn.feature_selection import RFE\n",
    "# n_features_to_select=20 because of the PCA Analisis\n",
    "selector = RFE(model, n_features_to_select=20, step=1)\n",
    "selector = selector.fit(X_train_scaled, y_train_encoded)\n",
    "topFeatures = data.loc[:,selector.support_]\n",
    "topFeatures.columns"
   ],
   "outputs": [
    {
     "output_type": "execute_result",
     "data": {
      "text/plain": [
       "Index(['koi_fpflag_nt', 'koi_fpflag_ss', 'koi_fpflag_co', 'koi_fpflag_ec',\n",
       "       'koi_period', 'koi_period_err1', 'koi_period_err2', 'koi_time0bk_err1',\n",
       "       'koi_time0bk_err2', 'koi_impact_err1', 'koi_duration',\n",
       "       'koi_duration_err1', 'koi_duration_err2', 'koi_depth', 'koi_teq',\n",
       "       'koi_model_snr', 'koi_tce_plnt_num', 'koi_steff_err1', 'koi_slogg',\n",
       "       'koi_slogg_err2'],\n",
       "      dtype='object')"
      ]
     },
     "metadata": {},
     "execution_count": 53
    }
   ],
   "metadata": {}
  },
  {
   "cell_type": "code",
   "execution_count": 54,
   "source": [
    "X_train, X_test, y_train, y_test = train_test_split(topFeatures, target, random_state=7)"
   ],
   "outputs": [],
   "metadata": {}
  },
  {
   "cell_type": "code",
   "execution_count": 55,
   "source": [
    "X_scaler = MinMaxScaler().fit(X_train)\n",
    "X_train_scaled = X_scaler.transform(X_train)\n",
    "X_test_scaled = X_scaler.transform(X_test)"
   ],
   "outputs": [],
   "metadata": {}
  },
  {
   "cell_type": "code",
   "execution_count": 56,
   "source": [
    "PCA_Model = LogisticRegression(max_iter=500)\n",
    "\n",
    "## Fit model\n",
    "PCA_Model.fit(X_train_scaled, y_train_encoded)"
   ],
   "outputs": [
    {
     "output_type": "execute_result",
     "data": {
      "text/plain": [
       "LogisticRegression(max_iter=500)"
      ]
     },
     "metadata": {},
     "execution_count": 56
    }
   ],
   "metadata": {}
  },
  {
   "cell_type": "code",
   "execution_count": 57,
   "source": [
    "print(f\"Training Data Score: {PCA_Model.score(X_train_scaled, y_train_encoded)}\")\n",
    "print(f\"Testing Data Score: {PCA_Model.score(X_test_scaled, y_test_encoded)}\")"
   ],
   "outputs": [
    {
     "output_type": "stream",
     "name": "stdout",
     "text": [
      "Training Data Score: 0.8495136372305931\n",
      "Testing Data Score: 0.8260869565217391\n"
     ]
    }
   ],
   "metadata": {}
  },
  {
   "cell_type": "markdown",
   "source": [
    "# Hyperparameter Tuning\n",
    "\n",
    "Use `GridSearchCV` to tune the model's parameters"
   ],
   "metadata": {}
  },
  {
   "cell_type": "code",
   "execution_count": 58,
   "source": [
    "# Create the GridSearchCV model\n",
    "from sklearn.model_selection import GridSearchCV\n",
    "\n",
    "param_grid = {'penalty': ['l1', 'l2'],\n",
    "              'C': np.logspace(-5, 5, 10),\n",
    "              'solver': ['liblinear']}\n",
    "\n",
    "grid = GridSearchCV(PCA_Model, param_grid, verbose=3)"
   ],
   "outputs": [],
   "metadata": {}
  },
  {
   "cell_type": "code",
   "execution_count": 59,
   "source": [
    "# Train the model with GridSearch\n",
    "grid.fit(X_train_scaled, y_train_encoded)"
   ],
   "outputs": [
    {
     "output_type": "stream",
     "name": "stdout",
     "text": [
      "Fitting 5 folds for each of 20 candidates, totalling 100 fits\n",
      "[CV 1/5] END C=1e-05, penalty=l1, solver=liblinear;, score=0.238 total time=   0.0s\n",
      "[CV 2/5] END C=1e-05, penalty=l1, solver=liblinear;, score=0.238 total time=   0.0s\n",
      "[CV 3/5] END C=1e-05, penalty=l1, solver=liblinear;, score=0.238 total time=   0.0s\n",
      "[CV 4/5] END C=1e-05, penalty=l1, solver=liblinear;, score=0.238 total time=   0.0s\n",
      "[CV 5/5] END C=1e-05, penalty=l1, solver=liblinear;, score=0.238 total time=   0.0s\n",
      "[CV 1/5] END C=1e-05, penalty=l2, solver=liblinear;, score=0.503 total time=   0.0s\n",
      "[CV 2/5] END C=1e-05, penalty=l2, solver=liblinear;, score=0.503 total time=   0.0s\n",
      "[CV 3/5] END C=1e-05, penalty=l2, solver=liblinear;, score=0.502 total time=   0.0s\n",
      "[CV 4/5] END C=1e-05, penalty=l2, solver=liblinear;, score=0.503 total time=   0.0s\n",
      "[CV 5/5] END C=1e-05, penalty=l2, solver=liblinear;, score=0.503 total time=   0.0s\n",
      "[CV 1/5] END C=0.0001291549665014884, penalty=l1, solver=liblinear;, score=0.238 total time=   0.0s\n",
      "[CV 2/5] END C=0.0001291549665014884, penalty=l1, solver=liblinear;, score=0.238 total time=   0.0s\n",
      "[CV 3/5] END C=0.0001291549665014884, penalty=l1, solver=liblinear;, score=0.238 total time=   0.0s\n",
      "[CV 4/5] END C=0.0001291549665014884, penalty=l1, solver=liblinear;, score=0.238 total time=   0.0s\n",
      "[CV 5/5] END C=0.0001291549665014884, penalty=l1, solver=liblinear;, score=0.238 total time=   0.0s\n",
      "[CV 1/5] END C=0.0001291549665014884, penalty=l2, solver=liblinear;, score=0.503 total time=   0.0s\n",
      "[CV 2/5] END C=0.0001291549665014884, penalty=l2, solver=liblinear;, score=0.503 total time=   0.0s\n",
      "[CV 3/5] END C=0.0001291549665014884, penalty=l2, solver=liblinear;, score=0.502 total time=   0.0s\n",
      "[CV 4/5] END C=0.0001291549665014884, penalty=l2, solver=liblinear;, score=0.503 total time=   0.0s\n",
      "[CV 5/5] END C=0.0001291549665014884, penalty=l2, solver=liblinear;, score=0.503 total time=   0.0s\n",
      "[CV 1/5] END C=0.0016681005372000592, penalty=l1, solver=liblinear;, score=0.503 total time=   0.0s\n",
      "[CV 2/5] END C=0.0016681005372000592, penalty=l1, solver=liblinear;, score=0.503 total time=   0.0s\n",
      "[CV 3/5] END C=0.0016681005372000592, penalty=l1, solver=liblinear;, score=0.502 total time=   0.0s\n",
      "[CV 4/5] END C=0.0016681005372000592, penalty=l1, solver=liblinear;, score=0.503 total time=   0.0s\n",
      "[CV 5/5] END C=0.0016681005372000592, penalty=l1, solver=liblinear;, score=0.503 total time=   0.0s\n",
      "[CV 1/5] END C=0.0016681005372000592, penalty=l2, solver=liblinear;, score=0.503 total time=   0.0s\n",
      "[CV 2/5] END C=0.0016681005372000592, penalty=l2, solver=liblinear;, score=0.503 total time=   0.0s\n",
      "[CV 3/5] END C=0.0016681005372000592, penalty=l2, solver=liblinear;, score=0.502 total time=   0.0s\n",
      "[CV 4/5] END C=0.0016681005372000592, penalty=l2, solver=liblinear;, score=0.503 total time=   0.0s\n",
      "[CV 5/5] END C=0.0016681005372000592, penalty=l2, solver=liblinear;, score=0.503 total time=   0.0s\n",
      "[CV 1/5] END C=0.021544346900318846, penalty=l1, solver=liblinear;, score=0.735 total time=   0.2s\n",
      "[CV 2/5] END C=0.021544346900318846, penalty=l1, solver=liblinear;, score=0.744 total time=   0.2s\n",
      "[CV 3/5] END C=0.021544346900318846, penalty=l1, solver=liblinear;, score=0.749 total time=   0.1s\n",
      "[CV 4/5] END C=0.021544346900318846, penalty=l1, solver=liblinear;, score=0.755 total time=   0.1s\n",
      "[CV 5/5] END C=0.021544346900318846, penalty=l1, solver=liblinear;, score=0.743 total time=   0.1s\n",
      "[CV 1/5] END C=0.021544346900318846, penalty=l2, solver=liblinear;, score=0.789 total time=   0.0s\n",
      "[CV 2/5] END C=0.021544346900318846, penalty=l2, solver=liblinear;, score=0.797 total time=   0.0s\n",
      "[CV 3/5] END C=0.021544346900318846, penalty=l2, solver=liblinear;, score=0.804 total time=   0.0s\n",
      "[CV 4/5] END C=0.021544346900318846, penalty=l2, solver=liblinear;, score=0.804 total time=   0.0s\n",
      "[CV 5/5] END C=0.021544346900318846, penalty=l2, solver=liblinear;, score=0.791 total time=   0.0s\n",
      "[CV 1/5] END C=0.2782559402207126, penalty=l1, solver=liblinear;, score=0.832 total time=   0.2s\n",
      "[CV 2/5] END C=0.2782559402207126, penalty=l1, solver=liblinear;, score=0.821 total time=   0.2s\n",
      "[CV 3/5] END C=0.2782559402207126, penalty=l1, solver=liblinear;, score=0.859 total time=   0.2s\n",
      "[CV 4/5] END C=0.2782559402207126, penalty=l1, solver=liblinear;, score=0.826 total time=   0.1s\n",
      "[CV 5/5] END C=0.2782559402207126, penalty=l1, solver=liblinear;, score=0.840 total time=   0.2s\n",
      "[CV 1/5] END C=0.2782559402207126, penalty=l2, solver=liblinear;, score=0.824 total time=   0.0s\n",
      "[CV 2/5] END C=0.2782559402207126, penalty=l2, solver=liblinear;, score=0.813 total time=   0.0s\n",
      "[CV 3/5] END C=0.2782559402207126, penalty=l2, solver=liblinear;, score=0.848 total time=   0.0s\n",
      "[CV 4/5] END C=0.2782559402207126, penalty=l2, solver=liblinear;, score=0.824 total time=   0.0s\n",
      "[CV 5/5] END C=0.2782559402207126, penalty=l2, solver=liblinear;, score=0.835 total time=   0.0s\n",
      "[CV 1/5] END C=3.593813663804626, penalty=l1, solver=liblinear;, score=0.867 total time=   0.8s\n",
      "[CV 2/5] END C=3.593813663804626, penalty=l1, solver=liblinear;, score=0.869 total time=   1.0s\n",
      "[CV 3/5] END C=3.593813663804626, penalty=l1, solver=liblinear;, score=0.882 total time=   1.1s\n",
      "[CV 4/5] END C=3.593813663804626, penalty=l1, solver=liblinear;, score=0.892 total time=   0.8s\n",
      "[CV 5/5] END C=3.593813663804626, penalty=l1, solver=liblinear;, score=0.867 total time=   0.9s\n",
      "[CV 1/5] END C=3.593813663804626, penalty=l2, solver=liblinear;, score=0.848 total time=   0.0s\n",
      "[CV 2/5] END C=3.593813663804626, penalty=l2, solver=liblinear;, score=0.834 total time=   0.0s\n",
      "[CV 3/5] END C=3.593813663804626, penalty=l2, solver=liblinear;, score=0.865 total time=   0.0s\n",
      "[CV 4/5] END C=3.593813663804626, penalty=l2, solver=liblinear;, score=0.845 total time=   0.0s\n",
      "[CV 5/5] END C=3.593813663804626, penalty=l2, solver=liblinear;, score=0.848 total time=   0.0s\n",
      "[CV 1/5] END C=46.41588833612782, penalty=l1, solver=liblinear;, score=0.872 total time=   0.8s\n",
      "[CV 2/5] END C=46.41588833612782, penalty=l1, solver=liblinear;, score=0.879 total time=   1.5s\n",
      "[CV 3/5] END C=46.41588833612782, penalty=l1, solver=liblinear;, score=0.887 total time=   0.7s\n",
      "[CV 4/5] END C=46.41588833612782, penalty=l1, solver=liblinear;, score=0.903 total time=   0.6s\n",
      "[CV 5/5] END C=46.41588833612782, penalty=l1, solver=liblinear;, score=0.868 total time=   0.8s\n",
      "[CV 1/5] END C=46.41588833612782, penalty=l2, solver=liblinear;, score=0.862 total time=   0.1s\n",
      "[CV 2/5] END C=46.41588833612782, penalty=l2, solver=liblinear;, score=0.865 total time=   0.1s\n",
      "[CV 3/5] END C=46.41588833612782, penalty=l2, solver=liblinear;, score=0.877 total time=   0.1s\n",
      "[CV 4/5] END C=46.41588833612782, penalty=l2, solver=liblinear;, score=0.881 total time=   0.1s\n",
      "[CV 5/5] END C=46.41588833612782, penalty=l2, solver=liblinear;, score=0.864 total time=   0.1s\n",
      "[CV 1/5] END C=599.4842503189421, penalty=l1, solver=liblinear;, score=0.872 total time=   0.6s\n",
      "[CV 2/5] END C=599.4842503189421, penalty=l1, solver=liblinear;, score=0.879 total time=   0.7s\n",
      "[CV 3/5] END C=599.4842503189421, penalty=l1, solver=liblinear;, score=0.887 total time=   0.7s\n",
      "[CV 4/5] END C=599.4842503189421, penalty=l1, solver=liblinear;, score=0.904 total time=   0.7s\n",
      "[CV 5/5] END C=599.4842503189421, penalty=l1, solver=liblinear;, score=0.867 total time=   0.7s\n",
      "[CV 1/5] END C=599.4842503189421, penalty=l2, solver=liblinear;, score=0.869 total time=   0.1s\n",
      "[CV 2/5] END C=599.4842503189421, penalty=l2, solver=liblinear;, score=0.876 total time=   0.1s\n",
      "[CV 3/5] END C=599.4842503189421, penalty=l2, solver=liblinear;, score=0.888 total time=   0.2s\n",
      "[CV 4/5] END C=599.4842503189421, penalty=l2, solver=liblinear;, score=0.897 total time=   0.1s\n",
      "[CV 5/5] END C=599.4842503189421, penalty=l2, solver=liblinear;, score=0.868 total time=   0.1s\n",
      "[CV 1/5] END C=7742.636826811277, penalty=l1, solver=liblinear;, score=0.872 total time=   0.5s\n",
      "[CV 2/5] END C=7742.636826811277, penalty=l1, solver=liblinear;, score=0.879 total time=   0.6s\n",
      "[CV 3/5] END C=7742.636826811277, penalty=l1, solver=liblinear;, score=0.887 total time=   0.9s\n",
      "[CV 4/5] END C=7742.636826811277, penalty=l1, solver=liblinear;, score=0.904 total time=   0.7s\n",
      "[CV 5/5] END C=7742.636826811277, penalty=l1, solver=liblinear;, score=0.867 total time=   0.9s\n",
      "[CV 1/5] END C=7742.636826811277, penalty=l2, solver=liblinear;, score=0.873 total time=   0.2s\n",
      "[CV 2/5] END C=7742.636826811277, penalty=l2, solver=liblinear;, score=0.879 total time=   0.2s\n",
      "[CV 3/5] END C=7742.636826811277, penalty=l2, solver=liblinear;, score=0.887 total time=   0.1s\n",
      "[CV 4/5] END C=7742.636826811277, penalty=l2, solver=liblinear;, score=0.903 total time=   0.2s\n",
      "[CV 5/5] END C=7742.636826811277, penalty=l2, solver=liblinear;, score=0.870 total time=   0.2s\n",
      "[CV 1/5] END C=100000.0, penalty=l1, solver=liblinear;, score=0.872 total time=   0.9s\n",
      "[CV 2/5] END C=100000.0, penalty=l1, solver=liblinear;, score=0.879 total time=   0.5s\n",
      "[CV 3/5] END C=100000.0, penalty=l1, solver=liblinear;, score=0.887 total time=   0.7s\n",
      "[CV 4/5] END C=100000.0, penalty=l1, solver=liblinear;, score=0.904 total time=   0.6s\n",
      "[CV 5/5] END C=100000.0, penalty=l1, solver=liblinear;, score=0.867 total time=   0.6s\n",
      "[CV 1/5] END C=100000.0, penalty=l2, solver=liblinear;, score=0.872 total time=   0.1s\n",
      "[CV 2/5] END C=100000.0, penalty=l2, solver=liblinear;, score=0.879 total time=   0.1s\n",
      "[CV 3/5] END C=100000.0, penalty=l2, solver=liblinear;, score=0.887 total time=   0.1s\n",
      "[CV 4/5] END C=100000.0, penalty=l2, solver=liblinear;, score=0.904 total time=   0.2s\n",
      "[CV 5/5] END C=100000.0, penalty=l2, solver=liblinear;, score=0.867 total time=   0.1s\n"
     ]
    },
    {
     "output_type": "execute_result",
     "data": {
      "text/plain": [
       "GridSearchCV(estimator=LogisticRegression(max_iter=500),\n",
       "             param_grid={'C': array([1.00000000e-05, 1.29154967e-04, 1.66810054e-03, 2.15443469e-02,\n",
       "       2.78255940e-01, 3.59381366e+00, 4.64158883e+01, 5.99484250e+02,\n",
       "       7.74263683e+03, 1.00000000e+05]),\n",
       "                         'penalty': ['l1', 'l2'], 'solver': ['liblinear']},\n",
       "             verbose=3)"
      ]
     },
     "metadata": {},
     "execution_count": 59
    }
   ],
   "metadata": {}
  },
  {
   "cell_type": "code",
   "execution_count": 61,
   "source": [
    "print(grid.best_params_)\n",
    "print(grid.best_score_)"
   ],
   "outputs": [
    {
     "output_type": "stream",
     "name": "stdout",
     "text": [
      "{'C': 7742.636826811277, 'penalty': 'l2', 'solver': 'liblinear'}\n",
      "0.8823208581055022\n"
     ]
    }
   ],
   "metadata": {}
  },
  {
   "cell_type": "code",
   "execution_count": 63,
   "source": [
    "hpModel = LogisticRegression(**grid.best_params_, max_iter=500)\n",
    "\n",
    "hpModel.fit(X_train_scaled, y_train_encoded)\n",
    "print(f\"Training Data Score: {hpModel.score(X_train_scaled, y_train_encoded)}\")\n",
    "print(f\"Testing Data Score: {hpModel.score(X_test_scaled, y_test_encoded)}\")"
   ],
   "outputs": [
    {
     "output_type": "stream",
     "name": "stdout",
     "text": [
      "Training Data Score: 0.8823192828533283\n",
      "Testing Data Score: 0.8758581235697941\n"
     ]
    }
   ],
   "metadata": {}
  },
  {
   "cell_type": "markdown",
   "source": [
    "# Save the Model"
   ],
   "metadata": {}
  },
  {
   "cell_type": "code",
   "execution_count": 64,
   "source": [
    "# save your model by updating \"your_name\" with your name\n",
    "# and \"your_model\" with your model variable\n",
    "# be sure to turn this in to BCS\n",
    "# if joblib fails to import, try running the command to install in terminal/git-bash\n",
    "import joblib\n",
    "filename = 'LogisticRegression.sav'\n",
    "joblib.dump(hpModel, filename)"
   ],
   "outputs": [
    {
     "output_type": "execute_result",
     "data": {
      "text/plain": [
       "['LogisticRegression.sav']"
      ]
     },
     "metadata": {},
     "execution_count": 64
    }
   ],
   "metadata": {}
  },
  {
   "cell_type": "code",
   "execution_count": null,
   "source": [],
   "outputs": [],
   "metadata": {}
  }
 ],
 "metadata": {
  "kernel_info": {
   "name": "dev"
  },
  "kernelspec": {
   "name": "python3",
   "display_name": "Python 3.8.5 64-bit ('machine-learning-challenge-bXil8iXN': venv)"
  },
  "language_info": {
   "codemirror_mode": {
    "name": "ipython",
    "version": 3
   },
   "file_extension": ".py",
   "mimetype": "text/x-python",
   "name": "python",
   "nbconvert_exporter": "python",
   "pygments_lexer": "ipython3",
   "version": "3.8.5"
  },
  "nteract": {
   "version": "0.12.3"
  },
  "interpreter": {
   "hash": "df79b570dcf7b6a831159bfb1709175b04443516ca8f2308afd65348c192d7a8"
  }
 },
 "nbformat": 4,
 "nbformat_minor": 2
}